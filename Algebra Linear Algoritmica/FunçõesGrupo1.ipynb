{
 "cells": [
  {
   "cell_type": "code",
   "execution_count": null,
   "id": "e03cf258-b4ff-49f3-9fda-72e132d428bb",
   "metadata": {},
   "outputs": [],
   "source": [
    "using LinearAlgebra\n",
    "\n",
    "# Função que, dado um vetor que gera uma reta, determina se outro vetor está nessa reta.\n",
    "# Entrada: Vetor e vetor gerador da reta.\n",
    "# Saída: Booleano (true ou false).\n",
    "# Utiliza a função vetor_perpendicular.\n",
    "\n",
    "function ta_na_reta(vetor, vetor_gerador)\n",
    "    return (vetor' * vetor_perpendicular(vetor_gerador) == 0)\n",
    "end"
   ]
  },
  {
   "cell_type": "code",
   "execution_count": 30,
   "id": "c6a4b2e7-c318-4b14-97a3-80edaefe4d3d",
   "metadata": {},
   "outputs": [
    {
     "data": {
      "text/plain": [
       "ta_no_plano (generic function with 2 methods)"
      ]
     },
     "execution_count": 30,
     "metadata": {},
     "output_type": "execute_result"
    }
   ],
   "source": [
    "using LinearAlgebra\n",
    "\n",
    "# Função que, dados dois vetores geradores de um plano, determina se outro vetor está nesse plano.\n",
    "# Entrada: Vetor, gerador1 (vetor gerador do plano) e gerador2 (vetor gerador do plano).\n",
    "# Saída: Booleano (true ou false).\n",
    "# Utiliza a função vetor_perpendicular.\n",
    "\n",
    "function ta_no_plano(vetor, gerador1, gerador2)\n",
    "    return (vetor' * vetor_perpendicular(gerador1, gerador2) == 0)\n",
    "end"
   ]
  },
  {
   "cell_type": "code",
   "execution_count": 153,
   "id": "b546087f-a099-4155-9ded-af5207161a12",
   "metadata": {},
   "outputs": [
    {
     "data": {
      "text/plain": [
       "posto (generic function with 1 method)"
      ]
     },
     "execution_count": 153,
     "metadata": {},
     "output_type": "execute_result"
    }
   ],
   "source": [
    "using LinearAlgebra\n",
    "using RowEchelon\n",
    "\n",
    "# Função que, dada uma matriz qualquer A, utiliza \"Gauss-Jordan\" para encontrar o posto (número de colunas com pivô) de A.\n",
    "# Entrada: Matriz A qualquer.\n",
    "# Saída: Escalar (posto de A).\n",
    "# Utiliza a função rref_with_pivots\n",
    "\n",
    "function posto(A)\n",
    "    C,pivos = rref_with_pivots(A) \n",
    "    return count(i-> (i > 0), pivos)\n",
    "end"
   ]
  },
  {
   "cell_type": "code",
   "execution_count": 157,
   "id": "42fbc324-97e1-4ee4-b894-6df829e4aa96",
   "metadata": {},
   "outputs": [
    {
     "data": {
      "text/plain": [
       "2"
      ]
     },
     "execution_count": 157,
     "metadata": {},
     "output_type": "execute_result"
    }
   ],
   "source": [
    "A = [1.0 3.0 4.0;\n",
    "     1.0 2.0 3.0; \n",
    "     1.0 2.0 3.0]\n",
    "posto(A)"
   ]
  },
  {
   "cell_type": "code",
   "execution_count": 134,
   "id": "cf414a10-ebc0-4deb-862e-dfc59bc1f778",
   "metadata": {},
   "outputs": [
    {
     "data": {
      "text/plain": [
       "distancia_vetor_reta (generic function with 1 method)"
      ]
     },
     "execution_count": 134,
     "metadata": {},
     "output_type": "execute_result"
    }
   ],
   "source": [
    "using LinearAlgebra\n",
    "\n",
    "# Função que, dados um vetor e uma reta, calcula a distância entre eles.\n",
    "# Entrada: Um vetor qualquer e o vetor gerador de uma reta.\n",
    "# Saída: Escalar (distância entre o vetor e a reta).\n",
    "# Utiliza a função projecao_ortogonal_na_reta e a função distancia.\n",
    "\n",
    "function distancia_vetor_reta(vetor, vetor_gerador)\n",
    "    projecao = projecao_ortogonal_na_reta(vetor, vetor_gerador)\n",
    "    return distancia(projecao, vetor)\n",
    "end"
   ]
  },
  {
   "cell_type": "code",
   "execution_count": 231,
   "id": "05cb2f55-0720-49eb-96e5-c65ad0e98adc",
   "metadata": {},
   "outputs": [
    {
     "data": {
      "text/plain": [
       "potenciacao (generic function with 1 method)"
      ]
     },
     "execution_count": 231,
     "metadata": {},
     "output_type": "execute_result"
    }
   ],
   "source": [
    "using LinearAlgebra\n",
    "\n",
    "# Função que, dada uma matriz quadrada A e um natural k, determina A^k.\n",
    "# Entrada: Matriz quadrada A.\n",
    "# Saída: Matriz P = A^k.\n",
    "\n",
    "function potenciacao(A, k)\n",
    "    dimensao = size(A)[1]\n",
    "    P = Matrix{Float64}(I, dimensao, dimensao)\n",
    "    for i in 1:k\n",
    "        P *= A\n",
    "    end\n",
    "    return P\n",
    "end"
   ]
  },
  {
   "cell_type": "code",
   "execution_count": 240,
   "id": "48758c56-75f5-4a75-9a06-4096ea758460",
   "metadata": {},
   "outputs": [
    {
     "data": {
      "text/plain": [
       "4×4 Matrix{Float64}:\n",
       " 3.8657   5.23914  4.2516   4.12491\n",
       " 4.761    6.44293  5.25251  5.0605\n",
       " 5.17372  7.0075   5.69482  5.51426\n",
       " 4.49456  6.06932  4.9741   4.75654"
      ]
     },
     "execution_count": 240,
     "metadata": {},
     "output_type": "execute_result"
    }
   ],
   "source": [
    "A = rand(4, 4)\n",
    "potenciacao(A, 5)"
   ]
  },
  {
   "cell_type": "code",
   "execution_count": 242,
   "id": "1e100cc1-5f3f-4dff-a678-3190de057cb6",
   "metadata": {},
   "outputs": [
    {
     "data": {
      "text/plain": [
       "projecao_ortogonal_no_plano (generic function with 1 method)"
      ]
     },
     "execution_count": 242,
     "metadata": {},
     "output_type": "execute_result"
    }
   ],
   "source": [
    "using LinearAlgebra\n",
    "\n",
    "# Função que determina a projeção de um dado vetor em um plano.\n",
    "# Entrada: Vetor, gerador1 (vetor gerador do plano) e gerador2 (vetor gerador do plano).\n",
    "# Saída: Vetor projeção no plano.\n",
    "# Utiliza a função vetor_perpendicular e a função projecao_ortogonal_na_reta\n",
    "\n",
    "function projecao_ortogonal_no_plano(vetor, gerador1, gerador2)\n",
    "    normal = vetor_perpendicular(gerador1, gerador2)\n",
    "    projecao_normal = projecao_ortogonal_na_reta(vetor, normal)\n",
    "    return (vetor - projecao_normal)\n",
    "end"
   ]
  }
 ],
 "metadata": {
  "kernelspec": {
   "display_name": "Julia 1.7.3",
   "language": "julia",
   "name": "julia-1.7"
  },
  "language_info": {
   "file_extension": ".jl",
   "mimetype": "application/julia",
   "name": "julia",
   "version": "1.7.3"
  }
 },
 "nbformat": 4,
 "nbformat_minor": 5
}
