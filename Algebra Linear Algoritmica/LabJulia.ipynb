{
 "cells": [
  {
   "cell_type": "code",
   "execution_count": 10,
   "id": "681c11d5-1747-4492-84a4-d0384e506eda",
   "metadata": {},
   "outputs": [
    {
     "data": {
      "text/plain": [
       "2-element Vector{Int64}:\n",
       " 3\n",
       " 4"
      ]
     },
     "execution_count": 10,
     "metadata": {},
     "output_type": "execute_result"
    }
   ],
   "source": [
    "using LinearAlgebra\n",
    "\n",
    "x = [3;4]"
   ]
  },
  {
   "cell_type": "code",
   "execution_count": 11,
   "id": "d96c4f80-008c-482b-b733-ff023ee122ce",
   "metadata": {},
   "outputs": [
    {
     "data": {
      "text/plain": [
       "tamanho (generic function with 1 method)"
      ]
     },
     "execution_count": 11,
     "metadata": {},
     "output_type": "execute_result"
    }
   ],
   "source": [
    "function tamanho(x)\n",
    "    return sqrt(x[1]^2 + x[2]^2)\n",
    "end"
   ]
  },
  {
   "cell_type": "code",
   "execution_count": 12,
   "id": "f8622734-4209-45c6-a5f1-2e5caf5f960d",
   "metadata": {},
   "outputs": [
    {
     "data": {
      "text/plain": [
       "norma (generic function with 1 method)"
      ]
     },
     "execution_count": 12,
     "metadata": {},
     "output_type": "execute_result"
    }
   ],
   "source": [
    "function norma(x)\n",
    "    return sqrt(x' * x)\n",
    "end"
   ]
  },
  {
   "cell_type": "code",
   "execution_count": 13,
   "id": "c516c818-d936-4430-85b4-d14ddb81df55",
   "metadata": {},
   "outputs": [
    {
     "data": {
      "text/plain": [
       "normalizar (generic function with 1 method)"
      ]
     },
     "execution_count": 13,
     "metadata": {},
     "output_type": "execute_result"
    }
   ],
   "source": [
    "function normalizar(x)\n",
    "    return x / norma(x)\n",
    "end"
   ]
  },
  {
   "cell_type": "code",
   "execution_count": 14,
   "id": "e4d7151f-5f43-4666-ae94-0b893a37800c",
   "metadata": {},
   "outputs": [
    {
     "data": {
      "text/plain": [
       "distancia (generic function with 1 method)"
      ]
     },
     "execution_count": 14,
     "metadata": {},
     "output_type": "execute_result"
    }
   ],
   "source": [
    "function distancia(x, y)\n",
    "    return norma(y-x)\n",
    "end"
   ]
  },
  {
   "cell_type": "code",
   "execution_count": 15,
   "id": "7554d712-3918-4785-8d1d-3fac3a4a524e",
   "metadata": {},
   "outputs": [
    {
     "data": {
      "text/plain": [
       "projecao (generic function with 1 method)"
      ]
     },
     "execution_count": 15,
     "metadata": {},
     "output_type": "execute_result"
    }
   ],
   "source": [
    "function projecao(y, x)\n",
    "    x_tilt = normalizar(x)\n",
    "    lambda = y' * x_tilt\n",
    "    return lambda, lambda * x_tilt\n",
    "end"
   ]
  },
  {
   "cell_type": "code",
   "execution_count": 16,
   "id": "4d12e39e-470c-403d-b9ad-a84a2b13d4dc",
   "metadata": {},
   "outputs": [
    {
     "data": {
      "text/plain": [
       "coseno (generic function with 1 method)"
      ]
     },
     "execution_count": 16,
     "metadata": {},
     "output_type": "execute_result"
    }
   ],
   "source": [
    "function coseno(y, x)\n",
    "    p = projecao(y, x)\n",
    "    return norma(p) / norma(y)\n",
    "end"
   ]
  },
  {
   "cell_type": "code",
   "execution_count": 17,
   "id": "fa232e63-1f3b-4762-b627-e7b550e71c62",
   "metadata": {},
   "outputs": [
    {
     "data": {
      "text/plain": [
       "fatoracao (generic function with 1 method)"
      ]
     },
     "execution_count": 17,
     "metadata": {},
     "output_type": "execute_result"
    }
   ],
   "source": [
    "function fatoracao(a1, a2)\n",
    "    q1 = normalizar(a1)\n",
    "    p = projecao(a2, q1)\n",
    "    d = a2 - p\n",
    "    q2 = normalizar(d)\n",
    "    return q1, q2\n",
    "end"
   ]
  },
  {
   "cell_type": "code",
   "execution_count": 157,
   "id": "e827c5b8-7802-4104-9390-be15c079b29c",
   "metadata": {},
   "outputs": [
    {
     "name": "stdout",
     "output_type": "stream",
     "text": [
      "Rocky = 1.1950313803411188\n",
      "Hobbit = 0.593295878967653\n",
      "Fight club = 1.3349157276772194\n",
      "Jurassic Park = 1.0382677881933928\n",
      "Menor = 0.593295878967653\n"
     ]
    }
   ],
   "source": [
    "titanic = [0.82; 0.74; 0.34; 0.58; 0.1]\n",
    "rocky = [0.18; 0.26; 0.69; 0.42; 0.9]\n",
    "hobbit = [0.5; 0.5; 0.5; 0.5; 0.5]\n",
    "fightclub = [0.1; 0.2; 0.7; 0.4; 1]\n",
    "jurassic = [0.26; 0.32; 0.62; 0.44; 0.8]\n",
    "\n",
    "drocky = distancia(titanic, rocky) \n",
    "dhobbit = distancia(titanic, hobbit) \n",
    "dfight = distancia(titanic, fightclub) \n",
    "djurassic = distancia(titanic, jurassic)\n",
    "menor = min(drocky, dhobbit, dfight, djurassic)\n",
    "\n",
    "println(\"Rocky = \", drocky)\n",
    "println(\"Hobbit = \", dhobbit)\n",
    "println(\"Fight club = \", dfight)\n",
    "println(\"Jurassic Park = \", djurassic)\n",
    "println(\"Menor = \", menor)"
   ]
  }
 ],
 "metadata": {
  "kernelspec": {
   "display_name": "Julia 1.7.3",
   "language": "julia",
   "name": "julia-1.7"
  },
  "language_info": {
   "file_extension": ".jl",
   "mimetype": "application/julia",
   "name": "julia",
   "version": "1.7.3"
  }
 },
 "nbformat": 4,
 "nbformat_minor": 5
}
