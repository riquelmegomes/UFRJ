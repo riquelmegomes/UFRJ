{
 "cells": [
  {
   "cell_type": "code",
   "execution_count": 31,
   "id": "57be3792-470c-43d8-8b40-629dabadcc65",
   "metadata": {},
   "outputs": [],
   "source": [
    "using LinearAlgebra"
   ]
  },
  {
   "cell_type": "code",
   "execution_count": 32,
   "id": "aee33c20",
   "metadata": {},
   "outputs": [
    {
     "data": {
      "text/plain": [
       "fatoracao_aprox (generic function with 1 method)"
      ]
     },
     "execution_count": 32,
     "metadata": {},
     "output_type": "execute_result"
    },
    {
     "data": {
      "text/plain": [
       "fatoracao_aprox (generic function with 1 method)"
      ]
     },
     "execution_count": 32,
     "metadata": {},
     "output_type": "execute_result"
    }
   ],
   "source": [
    "function fatoracao_aprox(A, k, passos)\n",
    "    \"\"\"Recebe uma matriz A(m,n), um k natural > 0 e um número de passos.\n",
    "       Retorna matrizes B(m,k) e C(k,n) tal que A é aproximadamente B*C e B*C tem posto k.\"\"\"\n",
    "    \n",
    "    local C\n",
    "    m, n = size(A)\n",
    "    B = randn(m,k)  # sorteio da base inicial\n",
    "    \n",
    "    # Mínimos Quadrados alternados\n",
    "    for i=1:passos \n",
    "        C = B\\A\n",
    "        B = A/C    \n",
    "    end\n",
    "    erro = norm(A - B*C)\n",
    "    \n",
    "    return B, C, erro\n",
    "end"
   ]
  },
  {
   "cell_type": "code",
   "execution_count": 33,
   "id": "fcade956",
   "metadata": {},
   "outputs": [
    {
     "name": "stdout",
     "output_type": "stream",
     "text": [
      "Número de passos = 1000\n",
      "posto(A) = 4\n",
      "posto(BC) = 1\n",
      "Erro = 3.2464566074925285\n",
      "Número de passos = 1000\n",
      "posto(A) = 4\n",
      "posto(BC) = 1\n",
      "Erro = 3.2464566074925285\n"
     ]
    }
   ],
   "source": [
    "# (TESTE) FATORAÇÃO APROXIMADA\n",
    "\n",
    "m, n = 4, 6\n",
    "k, passos = 1, 1000\n",
    "A = randn(m, n)\n",
    "B, C, erro = fatoracao_aprox(A, k, passos)\n",
    "\n",
    "println(\"Número de passos = \", passos)\n",
    "println(\"posto(A) = \", rank(A))\n",
    "println(\"posto(BC) = \", rank(B*C))\n",
    "println(\"Erro = \", erro)"
   ]
  },
  {
   "cell_type": "code",
   "execution_count": 34,
   "id": "5a319cda-7bd5-472d-bc65-dd81ec141dd1",
   "metadata": {},
   "outputs": [
    {
     "data": {
      "text/plain": [
       "LU (generic function with 1 method)"
      ]
     },
     "execution_count": 34,
     "metadata": {},
     "output_type": "execute_result"
    },
    {
     "data": {
      "text/plain": [
       "LU (generic function with 1 method)"
      ]
     },
     "execution_count": 34,
     "metadata": {},
     "output_type": "execute_result"
    }
   ],
   "source": [
    "function LU(A) \n",
    "    \"\"\"Recebe uma matriz quadrada A e a decompõe em duas matrizes: L e U, onde \n",
    "       L é uma matriz triangular inferior e U uma matriz triangular superior.\"\"\"\n",
    "    \n",
    "    n, n = size(A)\n",
    "    L = zeros(n, n)\n",
    "    U = zeros(n, n)\n",
    "    \n",
    "    for i=1:n\n",
    "        coluna = (1 / A[i,i]) * A[:,i]  # copia coluna i de A e divide pelo pivô: A[i,i]\n",
    "        L[:,i] = coluna   # adiciona em L\n",
    "        \n",
    "        linha = A[i,:]  # copia linha i de A\n",
    "        U[i,:] = linha  # adiciona em U\n",
    "        \n",
    "        A = A - (coluna*linha')  # atualiza matriz A\n",
    "    end\n",
    "    \n",
    "    return L,U\n",
    "end"
   ]
  },
  {
   "cell_type": "code",
   "execution_count": 35,
   "id": "aa0560ac-d88e-48ea-a745-dbd2958a7333",
   "metadata": {},
   "outputs": [
    {
     "data": {
      "text/plain": [
       "1.734723475976807e-18"
      ]
     },
     "execution_count": 35,
     "metadata": {},
     "output_type": "execute_result"
    },
    {
     "data": {
      "text/plain": [
       "1.734723475976807e-18"
      ]
     },
     "execution_count": 35,
     "metadata": {},
     "output_type": "execute_result"
    }
   ],
   "source": [
    "# (TESTE) DECOMPOSIÇÃO LU\n",
    "\n",
    "n = 3\n",
    "A = randn(n, n)\n",
    "L, U = LU(A)\n",
    "erro = norm(A - L*U)"
   ]
  },
  {
   "cell_type": "code",
   "execution_count": 36,
   "id": "a3b9f619-3060-480b-bbe7-f4fdefc219d3",
   "metadata": {},
   "outputs": [
    {
     "data": {
      "text/plain": [
       "subs_reversa (generic function with 1 method)"
      ]
     },
     "execution_count": 36,
     "metadata": {},
     "output_type": "execute_result"
    },
    {
     "data": {
      "text/plain": [
       "subs_reversa (generic function with 1 method)"
      ]
     },
     "execution_count": 36,
     "metadata": {},
     "output_type": "execute_result"
    }
   ],
   "source": [
    "function subs_reversa(U, b) \n",
    "    \"\"\"Recebe uma matriz U quadrada triangular superior e um vetor b. \n",
    "       Retorna o vetor x da equação Ux = b\"\"\"\n",
    "    \n",
    "    n, n = size(U)\n",
    "    x = zeros(n, 1)\n",
    "    \n",
    "    for i=n:-1:1    # vai de n até 1\n",
    "        x[i] = (1/U[i,i])*(b[i] - norm(U[i,:]'x))  # no laço i, cada elemento de x[i] até x[1] ainda será 0.\n",
    "    end\n",
    "    \n",
    "    return x \n",
    "end"
   ]
  },
  {
   "cell_type": "code",
   "execution_count": 37,
   "id": "e5c5a50c-36ff-4b6f-a6ca-39f0c565df36",
   "metadata": {},
   "outputs": [
    {
     "data": {
      "text/plain": [
       "5.551115123125783e-17"
      ]
     },
     "execution_count": 37,
     "metadata": {},
     "output_type": "execute_result"
    },
    {
     "data": {
      "text/plain": [
       "5.551115123125783e-17"
      ]
     },
     "execution_count": 37,
     "metadata": {},
     "output_type": "execute_result"
    }
   ],
   "source": [
    "# (TESTE) SUBSTITUIÇÃO REVERSA\n",
    "\n",
    "n = 3\n",
    "A = randn(n, n)\n",
    "L,U = LU(A)\n",
    "b = randn(n, 1)\n",
    "x = subs_reversa(U, b)\n",
    "erro = norm(U*x - b)"
   ]
  },
  {
   "cell_type": "code",
   "execution_count": 38,
   "id": "2f20fe59-ab35-4d89-ba43-b209b496064b",
   "metadata": {},
   "outputs": [
    {
     "data": {
      "text/plain": [
       "subs_direta (generic function with 1 method)"
      ]
     },
     "execution_count": 38,
     "metadata": {},
     "output_type": "execute_result"
    },
    {
     "data": {
      "text/plain": [
       "subs_direta (generic function with 1 method)"
      ]
     },
     "execution_count": 38,
     "metadata": {},
     "output_type": "execute_result"
    }
   ],
   "source": [
    "function subs_direta(L, b)\n",
    "    \"\"\"Recebe uma matriz L quadrada triangular inferior e um vetor b. \n",
    "       Retorna o vetor x da equação Lx = b\"\"\"\n",
    "    \n",
    "    n, n = size(L)\n",
    "    x = zeros(n, 1)\n",
    "    \n",
    "    for i=1:n\n",
    "        x[i] = (1/L[i,i])*(b[i] - norm(L[i,:]'x))  # no laço i, cada elemento de x[i] até x[n] ainda será 0.\n",
    "    end\n",
    "    \n",
    "    return x \n",
    "end"
   ]
  },
  {
   "cell_type": "code",
   "execution_count": 39,
   "id": "44faf839-c8e1-4ce8-9d41-7a5f80cfaa2c",
   "metadata": {},
   "outputs": [
    {
     "data": {
      "text/plain": [
       "3.3306690738754696e-16"
      ]
     },
     "execution_count": 39,
     "metadata": {},
     "output_type": "execute_result"
    },
    {
     "data": {
      "text/plain": [
       "3.3306690738754696e-16"
      ]
     },
     "execution_count": 39,
     "metadata": {},
     "output_type": "execute_result"
    }
   ],
   "source": [
    "# (TESTE) SUBSTITUIÇÃO DIRETA\n",
    "\n",
    "n = 3\n",
    "A = randn(n, n)\n",
    "L,U = LU(A)\n",
    "b = randn(n, 1)\n",
    "x = subs_direta(L, b)\n",
    "erro = norm(L*x - b)"
   ]
  },
  {
   "cell_type": "code",
   "execution_count": 40,
   "id": "a316da1a-7ad1-4688-8c58-4df716df21a9",
   "metadata": {},
   "outputs": [
    {
     "data": {
      "text/plain": [
       "resolve_sistema (generic function with 1 method)"
      ]
     },
     "execution_count": 40,
     "metadata": {},
     "output_type": "execute_result"
    },
    {
     "data": {
      "text/plain": [
       "resolve_sistema (generic function with 1 method)"
      ]
     },
     "execution_count": 40,
     "metadata": {},
     "output_type": "execute_result"
    }
   ],
   "source": [
    "function resolve_sistema(A, b)\n",
    "    \"\"\"Recebe uma matriz quadrada A (NxN) e um vetor b (Nx1). \n",
    "       Utilizando a decomposição LU e as funções de substituição, retorna o vetor x da equação Ax = b\"\"\"\n",
    "    \n",
    "    L,U = LU(A)\n",
    "    y = subs_direta(L, b)\n",
    "    x = subs_reversa(U, y)\n",
    "    return x\n",
    "end"
   ]
  },
  {
   "cell_type": "code",
   "execution_count": 41,
   "id": "4cb9fa64-4a16-42c5-99bf-bf8578b89183",
   "metadata": {},
   "outputs": [
    {
     "data": {
      "text/plain": [
       "23.77242683835294"
      ]
     },
     "execution_count": 41,
     "metadata": {},
     "output_type": "execute_result"
    },
    {
     "data": {
      "text/plain": [
       "23.77242683835294"
      ]
     },
     "execution_count": 41,
     "metadata": {},
     "output_type": "execute_result"
    }
   ],
   "source": [
    "# (TESTE) RESOLVE SISTEMA\n",
    "\n",
    "n = 3\n",
    "A = randn(n, n)\n",
    "b = randn(n, 1)\n",
    "x = resolve_sistema(A, b)\n",
    "erro = norm(A*x - b)"
   ]
  },
  {
   "cell_type": "code",
   "execution_count": 42,
   "id": "5ceae2c4-5f3e-420d-9cb9-3c7697ef8212",
   "metadata": {},
   "outputs": [
    {
     "data": {
      "text/plain": [
       "normalizar (generic function with 1 method)"
      ]
     },
     "execution_count": 42,
     "metadata": {},
     "output_type": "execute_result"
    },
    {
     "data": {
      "text/plain": [
       "normalizar (generic function with 1 method)"
      ]
     },
     "execution_count": 42,
     "metadata": {},
     "output_type": "execute_result"
    }
   ],
   "source": [
    "function normalizar(v)\n",
    "    \"\"\"Recebe um vetor v e o retorna normalizado (norma = 1).\"\"\"\n",
    "    \n",
    "    return (v / norm(v))\n",
    "end"
   ]
  },
  {
   "cell_type": "code",
   "execution_count": 43,
   "id": "c4b3435d-8b34-41a5-af64-8782ed9f321b",
   "metadata": {},
   "outputs": [
    {
     "data": {
      "text/plain": [
       "1.0"
      ]
     },
     "execution_count": 43,
     "metadata": {},
     "output_type": "execute_result"
    },
    {
     "data": {
      "text/plain": [
       "1.0"
      ]
     },
     "execution_count": 43,
     "metadata": {},
     "output_type": "execute_result"
    }
   ],
   "source": [
    "# (TESTE) NORMALIZAR\n",
    "\n",
    "n = 3\n",
    "v = randn(n)\n",
    "norm(normalizar(v)) # deve ser igual a 1"
   ]
  },
  {
   "cell_type": "code",
   "execution_count": 44,
   "id": "5c099b24-1908-4727-a682-8026f236a9b5",
   "metadata": {},
   "outputs": [
    {
     "data": {
      "text/plain": [
       "QR (generic function with 1 method)"
      ]
     },
     "execution_count": 44,
     "metadata": {},
     "output_type": "execute_result"
    },
    {
     "data": {
      "text/plain": [
       "QR (generic function with 1 method)"
      ]
     },
     "execution_count": 44,
     "metadata": {},
     "output_type": "execute_result"
    }
   ],
   "source": [
    "function QR(A)\n",
    "    \"\"\"Recebe uma matriz A e a decompõe em duas matrizes: Q e R, onde \n",
    "       Q é uma matriz ortogonal e R uma matriz triangular superior.\"\"\"\n",
    "    \n",
    "    m, n = size(A)  # aceita matrizes não quadradas\n",
    "    Q = zeros(m, n)  \n",
    "    R = zeros(n, n)\n",
    "     \n",
    "    for i=1:n\n",
    "        coluna = normalizar(A[:,i])   # obtém coluna i de Q (normalizada)\n",
    "        Q[:,i] = coluna\n",
    "        linha = A'*coluna   # obtém linha i de R\n",
    "        R[i,:] = linha\n",
    "        A = A - coluna*linha'  # zera coluna i de A\n",
    "    end\n",
    "    \n",
    "    return Q,R\n",
    "end"
   ]
  },
  {
   "cell_type": "code",
   "execution_count": 45,
   "id": "22e0c596-8a01-4633-8ecf-2eb95d4aded7",
   "metadata": {},
   "outputs": [
    {
     "data": {
      "text/plain": [
       "8.182012274917481e-16"
      ]
     },
     "execution_count": 45,
     "metadata": {},
     "output_type": "execute_result"
    },
    {
     "data": {
      "text/plain": [
       "8.182012274917481e-16"
      ]
     },
     "execution_count": 45,
     "metadata": {},
     "output_type": "execute_result"
    }
   ],
   "source": [
    "# (TESTE) DECOMPOSIÇÃO QR\n",
    "\n",
    "m, n = 4, 3\n",
    "A = randn(m, n)\n",
    "Q,R = QR(A)\n",
    "erro = norm(A - Q*R)"
   ]
  },
  {
   "cell_type": "code",
   "execution_count": 46,
   "id": "32d5990b-53d5-4f4e-bcd8-a7c0e77d9c85",
   "metadata": {},
   "outputs": [
    {
     "data": {
      "text/plain": [
       "projetar (generic function with 1 method)"
      ]
     },
     "execution_count": 46,
     "metadata": {},
     "output_type": "execute_result"
    },
    {
     "data": {
      "text/plain": [
       "projetar (generic function with 1 method)"
      ]
     },
     "execution_count": 46,
     "metadata": {},
     "output_type": "execute_result"
    }
   ],
   "source": [
    "function projetar(a, Q)\n",
    "    \"\"\"Recebe um vetor 'a' e projeta este na direção de cada coluna (normalizada) da matriz Q. \n",
    "       Retorna o vetor 'p' que é a soma de todas essas projeções.\"\"\"\n",
    "    \n",
    "    if (Q isa Vector{<:Number})  # caso Q seja um vetor, será intepretado como uma matriz\n",
    "        Q = reshape(Q, length(Q), 1)\n",
    "    end\n",
    "    \n",
    "    m, n = size(Q)\n",
    "    p = zeros(m)\n",
    "    \n",
    "    for i=1:n\n",
    "        direcao = normalizar(Q[:,i])\n",
    "        p += (a'*direcao)*direcao\n",
    "    end\n",
    "    \n",
    "    return p\n",
    "end"
   ]
  },
  {
   "cell_type": "code",
   "execution_count": 47,
   "id": "a336ef58-2292-469e-9f21-7c7ffa643f2e",
   "metadata": {},
   "outputs": [
    {
     "data": {
      "text/plain": [
       "3-element Vector{Float64}:\n",
       " -0.5828524570472329\n",
       " -4.297326617637275\n",
       " -1.2884680843325356"
      ]
     },
     "execution_count": 47,
     "metadata": {},
     "output_type": "execute_result"
    },
    {
     "data": {
      "text/plain": [
       "3-element Vector{Float64}:\n",
       " -0.5828524570472329\n",
       " -4.297326617637275\n",
       " -1.2884680843325356"
      ]
     },
     "execution_count": 47,
     "metadata": {},
     "output_type": "execute_result"
    }
   ],
   "source": [
    "# (TESTE) PROJETAR\n",
    "\n",
    "m, n = 3, 4\n",
    "a = randn(m)\n",
    "Q = randn(m, n)\n",
    "projetar(a, Q)"
   ]
  },
  {
   "cell_type": "code",
   "execution_count": 48,
   "id": "9c4c7e90-7ca5-473a-9078-b3614212a14a",
   "metadata": {},
   "outputs": [
    {
     "data": {
      "text/plain": [
       "QR_classico (generic function with 1 method)"
      ]
     },
     "execution_count": 48,
     "metadata": {},
     "output_type": "execute_result"
    },
    {
     "data": {
      "text/plain": [
       "QR_classico (generic function with 1 method)"
      ]
     },
     "execution_count": 48,
     "metadata": {},
     "output_type": "execute_result"
    }
   ],
   "source": [
    "function QR_classico(A)\n",
    "    \"\"\"Recebe uma matriz A e a decompõe em duas matrizes: Q e R, onde \n",
    "       Q é uma matriz ortogonal e R uma matriz triangular superior.\"\"\"\n",
    "    \n",
    "    m, n = size(A)  # aceita matrizes não quadradas\n",
    "    Q = zeros(m, n)  \n",
    "    R = zeros(n, n)\n",
    "    \n",
    "    A1 = A[:,1]\n",
    "    Q[:,1], R[1,1] = normalizar(A1), norm(A1)\n",
    "    for i=2:n\n",
    "        Ai = A[:,i] \n",
    "        Q[:,i] = normalizar(Ai - projetar(Ai, Q[:, 1:(i-1)]))  # obtém coluna i de Q (normalizada)\n",
    "        \n",
    "        # constrói matriz R\n",
    "        for j=1:i    \n",
    "            if !(i < j) \n",
    "                R[j,i] = Ai'*Q[:,j]\n",
    "            end\n",
    "        end\n",
    "    end\n",
    "    \n",
    "    return Q,R\n",
    "end"
   ]
  },
  {
   "cell_type": "code",
   "execution_count": 49,
   "id": "32293ece-79aa-408d-99c4-2a3b53492ab0",
   "metadata": {},
   "outputs": [
    {
     "data": {
      "text/plain": [
       "4.972820174300706e-16"
      ]
     },
     "execution_count": 49,
     "metadata": {},
     "output_type": "execute_result"
    },
    {
     "data": {
      "text/plain": [
       "4.972820174300706e-16"
      ]
     },
     "execution_count": 49,
     "metadata": {},
     "output_type": "execute_result"
    }
   ],
   "source": [
    "# (TESTE) QR CLÁSSICO\n",
    "\n",
    "m, n = 4, 3\n",
    "A = randn(m, n)\n",
    "Q, R = QR_classico(A)\n",
    "erro = norm(A - Q*R)"
   ]
  },
  {
   "cell_type": "code",
   "execution_count": 50,
   "id": "67f80d46",
   "metadata": {},
   "outputs": [
    {
     "data": {
      "text/plain": [
       "MQ (generic function with 1 method)"
      ]
     },
     "execution_count": 50,
     "metadata": {},
     "output_type": "execute_result"
    },
    {
     "data": {
      "text/plain": [
       "MQ (generic function with 1 method)"
      ]
     },
     "execution_count": 50,
     "metadata": {},
     "output_type": "execute_result"
    }
   ],
   "source": [
    "function MQ(A, b)\n",
    "    \"\"\"Recebe uma matriz A(m,n) e um vetor b(m,1). Utiliza decomposição QR e \n",
    "       substituição reversa para encontrar o vetor x tal que A*x é aproximadamente b.\"\"\"\n",
    "    \n",
    "    C = [A b]  # concatena A e b\n",
    "    Q,R = QR(C)  # decompõe C em Q*R\n",
    "    n, n = size(R) # R é uma matriz quadrada\n",
    "    R = R[1:(n-1), :] # elimina a última linha de R\n",
    "    y = R[:, n]  # guarda a última coluna de R em y\n",
    "    C = R[1:(n-1), 1:(n-1)] # guarda o restante de R em C\n",
    "    x = subs_reversa(C, y) # C agora é uma matriz quadrada triangular superior: (U)\n",
    "    \n",
    "    erro = norm(A*x - b) # encontra erro da aproximação\n",
    "    return x, erro\n",
    "end"
   ]
  },
  {
   "cell_type": "code",
   "execution_count": 51,
   "id": "92c6273d",
   "metadata": {},
   "outputs": [
    {
     "data": {
      "text/plain": [
       "0.8820458169507486"
      ]
     },
     "execution_count": 51,
     "metadata": {},
     "output_type": "execute_result"
    },
    {
     "data": {
      "text/plain": [
       "0.8820458169507486"
      ]
     },
     "execution_count": 51,
     "metadata": {},
     "output_type": "execute_result"
    }
   ],
   "source": [
    "# (TESTE) MÍNIMOS QUADRADOS COM QR\n",
    "\n",
    "m, n = 5, 4  # mais linhas que colunas -> sistema sem solução\n",
    "A = randn(m, n)\n",
    "b = randn(m)\n",
    "x, erro = MQ(A, b)\n",
    "erro"
   ]
  },
  {
   "cell_type": "code",
   "execution_count": 1,
   "id": "24ff1b9f",
   "metadata": {},
   "outputs": [
    {
     "ename": "LoadError",
     "evalue": "UndefVarError: resolve_sistema not defined",
     "output_type": "error",
     "traceback": [
      "UndefVarError: resolve_sistema not defined",
      "",
      "Stacktrace:",
      " [1] top-level scope",
      "   @ In[1]:7",
      " [2] eval",
      "   @ .\\boot.jl:373 [inlined]",
      " [3] include_string(mapexpr::typeof(REPL.softscope), mod::Module, code::String, filename::String)",
      "   @ Base .\\loading.jl:1196"
     ]
    }
   ],
   "source": [
    "# ACHAR INVERSA DE A\n",
    "\n",
    "A = [2 1 1; 4 5 4; 6 15 16]\n",
    "e1 = [1;0;0]\n",
    "e2 = [0;1;0]\n",
    "e3 = [0;0;1]\n",
    "x1 = resolve_sistema(A, e1)\n",
    "x2 = resolve_sistema(A, e2)\n",
    "x3 = resolve_sistema(A, e3)\n",
    "x = [x1 x2 x3]"
   ]
  },
  {
   "cell_type": "code",
   "execution_count": 55,
   "id": "a435af17",
   "metadata": {},
   "outputs": [
    {
     "data": {
      "text/plain": [
       "eh_triang_superior (generic function with 1 method)"
      ]
     },
     "execution_count": 55,
     "metadata": {},
     "output_type": "execute_result"
    },
    {
     "data": {
      "text/plain": [
       "eh_triang_superior (generic function with 1 method)"
      ]
     },
     "execution_count": 55,
     "metadata": {},
     "output_type": "execute_result"
    }
   ],
   "source": [
    "function eh_triang_superior(A)\n",
    "   n, n = size(A)\n",
    "    \n",
    "    for i=1:n\n",
    "        for j=1:i\n",
    "            if (i == j) && (A[i,j] != 1)  return false\n",
    "            end\n",
    "            if (i > j) && (A[i,j] != 0)  return false\n",
    "            end\n",
    "        end\n",
    "    end\n",
    "        \n",
    "    return true\n",
    "end"
   ]
  },
  {
   "cell_type": "code",
   "execution_count": 56,
   "id": "d6d3d431",
   "metadata": {},
   "outputs": [
    {
     "data": {
      "text/plain": [
       "eh_triang_sup (generic function with 1 method)"
      ]
     },
     "execution_count": 56,
     "metadata": {},
     "output_type": "execute_result"
    },
    {
     "data": {
      "text/plain": [
       "eh_triang_sup (generic function with 1 method)"
      ]
     },
     "execution_count": 56,
     "metadata": {},
     "output_type": "execute_result"
    }
   ],
   "source": [
    "function eh_triang_sup(A) # recursivo\n",
    "   n, n = size(A)\n",
    "    \n",
    "    if (n == 1)\n",
    "        if (A[n, n] == 1) return true\n",
    "        end\n",
    "    else\n",
    "        if(eh_triang_sup(A[1:n-1, 1:n-1]))\n",
    "                if (A[n, 1:n-1]' == zeros(1, n-1)) && A[n,n] == 1\n",
    "                    return true\n",
    "                end\n",
    "        end\n",
    "    end\n",
    "    \n",
    "    return false\n",
    "end"
   ]
  },
  {
   "cell_type": "code",
   "execution_count": 57,
   "id": "7c7f2569",
   "metadata": {},
   "outputs": [
    {
     "data": {
      "text/plain": [
       "true"
      ]
     },
     "execution_count": 57,
     "metadata": {},
     "output_type": "execute_result"
    },
    {
     "data": {
      "text/plain": [
       "true"
      ]
     },
     "execution_count": 57,
     "metadata": {},
     "output_type": "execute_result"
    }
   ],
   "source": [
    "id = Matrix{Float64}(I, 4, 4)\n",
    "eh_triang_superior(id) && eh_triang_sup(id)"
   ]
  },
  {
   "cell_type": "code",
   "execution_count": 58,
   "id": "2f03aec4",
   "metadata": {},
   "outputs": [
    {
     "data": {
      "text/plain": [
       "Rev (generic function with 1 method)"
      ]
     },
     "execution_count": 58,
     "metadata": {},
     "output_type": "execute_result"
    },
    {
     "data": {
      "text/plain": [
       "Rev (generic function with 1 method)"
      ]
     },
     "execution_count": 58,
     "metadata": {},
     "output_type": "execute_result"
    }
   ],
   "source": [
    "function Rev(U, b, x, i)\n",
    "    n, n = size(U)\n",
    "    \n",
    "    if (i == n) \n",
    "        x[n] = b[n] / U[n, n]\n",
    "        return x[n], x\n",
    "    else\n",
    "        v = zeros(n-i)\n",
    "        for j=1:(n-i)\n",
    "            v[j], x = Rev(U, b, x, i+j)\n",
    "        end\n",
    "        x[i] = (b[i] - norm(U[i,(i+1):n]'v)) / U[i, i]\n",
    "        return x[i], x\n",
    "    end\n",
    "end"
   ]
  },
  {
   "cell_type": "code",
   "execution_count": 59,
   "id": "c2f4d3b1",
   "metadata": {},
   "outputs": [
    {
     "data": {
      "text/plain": [
       "3×1 Matrix{Float64}:\n",
       " -14.0\n",
       " -16.0\n",
       "   5.0"
      ]
     },
     "execution_count": 59,
     "metadata": {},
     "output_type": "execute_result"
    },
    {
     "data": {
      "text/plain": [
       "3×1 Matrix{Float64}:\n",
       " -14.0\n",
       " -16.0\n",
       "   5.0"
      ]
     },
     "execution_count": 59,
     "metadata": {},
     "output_type": "execute_result"
    }
   ],
   "source": [
    "U = [1 2 3; 0 1 4; 0 0 1]\n",
    "b = [3; 4; 5]\n",
    "subs_reversa(U, b)"
   ]
  },
  {
   "cell_type": "code",
   "execution_count": 60,
   "id": "cd898bec",
   "metadata": {},
   "outputs": [
    {
     "data": {
      "text/plain": [
       "3-element Vector{Float64}:\n",
       " -14.0\n",
       " -16.0\n",
       "   5.0"
      ]
     },
     "execution_count": 60,
     "metadata": {},
     "output_type": "execute_result"
    },
    {
     "data": {
      "text/plain": [
       "3-element Vector{Float64}:\n",
       " -14.0\n",
       " -16.0\n",
       "   5.0"
      ]
     },
     "execution_count": 60,
     "metadata": {},
     "output_type": "execute_result"
    }
   ],
   "source": [
    "x = zeros(3)\n",
    "x1, x = Rev(U, b, x, 1)\n",
    "x"
   ]
  }
 ],
 "metadata": {
  "kernelspec": {
   "display_name": "Julia 1.7.3",
   "language": "julia",
   "name": "julia-1.7"
  },
  "language_info": {
   "file_extension": ".jl",
   "mimetype": "application/julia",
   "name": "julia",
   "version": "1.7.3"
  }
 },
 "nbformat": 4,
 "nbformat_minor": 5
}
